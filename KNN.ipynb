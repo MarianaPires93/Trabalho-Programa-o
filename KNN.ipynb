{
 "cells": [
  {
   "cell_type": "markdown",
   "metadata": {},
   "source": [
    "# KNN"
   ]
  },
  {
   "cell_type": "code",
   "execution_count": 1,
   "metadata": {},
   "outputs": [
    {
     "name": "stdout",
     "output_type": "stream",
     "text": [
      "Predicted labels: [1, 1, 1, 0, 1, 1, 1, 0, 1, 1]\n"
     ]
    }
   ],
   "source": [
    "import numpy as np\n",
    "import matplotlib.pyplot as plt\n",
    "\n",
    "\n",
    "\n",
    "#This class initialization allows the user to create an instance of the KNN class with specific values for K and choose whether to normalize the data or not. \n",
    "#The actual training and prediction methods, such as fit and predict, will be used after the object is created to handle data and perform KNN classification.\n",
    "#both self._train are initialized as 'None' until the fit method is called to train the model.\n",
    "class KNN:\n",
    "    def __init__(self, K=3, normalize=False):\n",
    "        self.K = K\n",
    "        self.normalize = normalize\n",
    "        self.X_train = None\n",
    "        self.y_train = None\n",
    "\n",
    "    #Defined fit as a method within KNN that trains the model. It takes two parameters 'X' (the training data, features) and 'y' (the corresponding labels)\n",
    "    #'self.X_train = X' and 'self.y_train = y' will store the training data.\n",
    "    def fit(self, X, y):\n",
    "        self.X_train = X\n",
    "        self.y_train = y\n",
    "        \n",
    "        #This conditional statement checks if the normalize attribute is set to True. If the normalize attribute was set to True during the creation of the KNN object, this condition will be met.\n",
    "        if self.normalize:\n",
    "            self.X_train = self._normalize(self.X_train)\n",
    "\n",
    "    #The 'predict' method predicts labels for the provided test data ('X_test'). It takes 'X_test' as input.\n",
    "    def predict(self, X_test):\n",
    "        if self.normalize:\n",
    "            X_test = self._normalize(X_test) #Conditional statement where if the normalize attribute is set to true, it will execute the subsequent code block.\n",
    "\n",
    "        #for loop will iterate through each test sample in 'X_test'. \n",
    "        predictions = []\n",
    "        for x in X_test:\n",
    "            distances = [np.linalg.norm(x - x_train) for x_train in self.X_train] #calculates the Euclidean distances\n",
    "            nearest_neighbours = np.argsort(distances)[:self.K] #sorts the distances and selects the indices of the 'self.K' nearest neighbours\n",
    "            nearest_labels = self.y_train[nearest_neighbours] #retrieves the labels of the self.K nearest neighbors from the stored training labels (self.y_train)\n",
    "            prediction = np.argmax(np.bincount(nearest_labels)) #determines the most common label among the nearest neighbors by using np.bincount.\n",
    "            predictions.append(prediction) #predicted label is stored here\n",
    "\n",
    "        return predictions #returns a list containing the predicted labels for all the test samples in 'X_test'.\n",
    "\n",
    "    def _normalize(self, X):\n",
    "        return (X - np.mean(X, axis=0)) / np.std(X, axis=0) #This line returns the normalized input X after performing the mean subtraction and division by the standard deviation for each feature.\n",
    "\n",
    "\n",
    "# Example usage:\n",
    "# Create synthetic data\n",
    "np.random.seed(42)\n",
    "X_train = np.random.rand(100, 2) * 10\n",
    "y_train = np.random.randint(0, 2, size=100)\n",
    "\n",
    "# User inputs\n",
    "Ks = int(input(\"Enter the number of neighbors (K): \"))\n",
    "normalize_option = input(\"Normalize data? (yes/no): \").lower() == 'yes'\n",
    "\n",
    "# Create and fit KNN model based on user inputs\n",
    "knn = KNN(K=Ks, normalize=normalize_option)\n",
    "knn.fit(X_train, y_train)\n",
    "\n",
    "# Generate test data (random points for prediction)\n",
    "X_test = np.random.rand(10, 2) * 10\n",
    "\n",
    "# Predict using the fitted model\n",
    "predicted_labels = knn.predict(X_test)\n",
    "print(\"Predicted labels:\", predicted_labels)"
   ]
  }
 ],
 "metadata": {
  "kernelspec": {
   "display_name": "base",
   "language": "python",
   "name": "python3"
  },
  "language_info": {
   "codemirror_mode": {
    "name": "ipython",
    "version": 3
   },
   "file_extension": ".py",
   "mimetype": "text/x-python",
   "name": "python",
   "nbconvert_exporter": "python",
   "pygments_lexer": "ipython3",
   "version": "3.11.5"
  }
 },
 "nbformat": 4,
 "nbformat_minor": 2
}
